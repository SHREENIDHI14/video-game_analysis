{
 "cells": [
  {
   "cell_type": "code",
   "execution_count": 4,
   "metadata": {},
   "outputs": [
    {
     "name": "stderr",
     "output_type": "stream",
     "text": [
      "Using TensorFlow backend.\n"
     ]
    }
   ],
   "source": [
    "#importing all the packages\n",
    "from __future__ import print_function\n",
    "import keras\n",
    "from keras.preprocessing.image import ImageDataGenerator #we can use if we have less no of imgs in a dataset\n",
    "from keras.models import Sequential\n",
    "from keras.layers import Dense,Dropout,Activation,Flatten,BatchNormalization\n",
    "from keras.layers import Conv2D,MaxPooling2D\n",
    "import os"
   ]
  },
  {
   "cell_type": "code",
   "execution_count": 39,
   "metadata": {},
   "outputs": [],
   "source": [
    "#no of classes and the batch size\n",
    "number_of_classes = 5 #sad,happy,neutral,angry,surprise are 5 kinds of emotion labels\n",
    "image_rows,image_columns=48,48 #trgetd size\n",
    "batch_size= 32 #work on 32 images at a time(try changing and expt it)\n"
   ]
  },
  {
   "cell_type": "code",
   "execution_count": 40,
   "metadata": {},
   "outputs": [],
   "source": [
    "#traing and valdn dataset directory\n",
    "train_data_dir=r\"D:\\IITK\\train\"\n",
    "validation_data_dir=r\"D:\\IITK\\validation\"\n"
   ]
  },
  {
   "cell_type": "code",
   "execution_count": 41,
   "metadata": {},
   "outputs": [],
   "source": [
    "train_datagen = ImageDataGenerator(\n",
    "                 rescale=1./255,    #rescale the image 0 to 1\n",
    "                 rotation_range=30,  #rotate the image 0 to 30 degree both l and r\n",
    "                 shear_range=0.3,\n",
    "                 zoom_range=0.3,\n",
    "                 width_shift_range=0.4,\n",
    "                 height_shift_range=0.4,\n",
    "                 horizontal_flip=True,   #to have another img with thiss img itelf\n",
    "                 fill_mode='nearest')     #if pixels moved to right then the nearest ones will leave that img behind in l\n",
    "                        #can see wat kind of data augmentation is done in keras docm also\n",
    "    "
   ]
  },
  {
   "cell_type": "code",
   "execution_count": 42,
   "metadata": {},
   "outputs": [],
   "source": [
    "validation_datagen = ImageDataGenerator(rescale=1./255)           #no need to generate more imgs here iin valdn only needed for training "
   ]
  },
  {
   "cell_type": "code",
   "execution_count": 43,
   "metadata": {},
   "outputs": [
    {
     "name": "stdout",
     "output_type": "stream",
     "text": [
      "Found 24176 images belonging to 5 classes.\n"
     ]
    }
   ],
   "source": [
    "train_generator=train_datagen.flow_from_directory(\n",
    "                train_data_dir,             #this train data will be taken as the ip\n",
    "                color_mode='grayscale',     #colour can be gray bcoz structure of face is enough not the colour \n",
    "                target_size=(image_rows,image_columns),\n",
    "                batch_size=batch_size,          #32\n",
    "                class_mode='categorical',       #here we have multiple classes (5 classes of emotions)\n",
    "                shuffle='True')                 #need to shuffle bfore training to prevent any cheating if models knows bfore itself \n"
   ]
  },
  {
   "cell_type": "code",
   "execution_count": 44,
   "metadata": {},
   "outputs": [
    {
     "name": "stdout",
     "output_type": "stream",
     "text": [
      "Found 3006 images belonging to 5 classes.\n"
     ]
    }
   ],
   "source": [
    "validation_generator=validation_datagen.flow_from_directory(\n",
    "                validation_data_dir,             #this train data will be taken as the ip\n",
    "                color_mode='grayscale',     #colour can be gray bcoz structure of face is enough not the colour \n",
    "                target_size=(image_rows,image_columns),\n",
    "                batch_size=batch_size,          #32\n",
    "                class_mode='categorical',       #here we have multiple classes (5 classes of emotions)\n",
    "                shuffle='True')     "
   ]
  },
  {
   "cell_type": "code",
   "execution_count": 48,
   "metadata": {},
   "outputs": [],
   "source": [
    "#defining our cnn\n",
    "model= Sequential()\n",
    "\n",
    "#block1\n",
    "model.add(Conv2D(32,(3,3),padding='same',kernel_initializer='he_normal',input_shape=(image_rows,image_columns,1)))\n",
    "model.add(Activation('elu'))\n",
    "model.add(BatchNormalization())\n",
    "model.add(Conv2D(32,(3,3),padding='same',kernel_initializer='he_normal',input_shape=(image_rows,image_columns,1)))\n",
    "model.add(Activation('elu'))\n",
    "model.add(BatchNormalization())\n",
    "model.add(MaxPooling2D(pool_size=(2,2)))\n",
    "model.add(Dropout(0.2))"
   ]
  },
  {
   "cell_type": "code",
   "execution_count": 49,
   "metadata": {},
   "outputs": [],
   "source": [
    "#block2\n",
    "model.add(Conv2D(64,(3,3),padding='same',kernel_initializer='he_normal'))\n",
    "model.add(Activation('elu'))\n",
    "model.add(BatchNormalization())\n",
    "model.add(Conv2D(64,(3,3),padding='same',kernel_initializer='he_normal'))\n",
    "model.add(Activation('elu'))\n",
    "model.add(BatchNormalization())\n",
    "model.add(MaxPooling2D(pool_size=(2,2)))\n",
    "model.add(Dropout(0.2))            #there is a chance of overfittinh  so we dropout 20% at a time only 80% get activated\n",
    "\n"
   ]
  },
  {
   "cell_type": "code",
   "execution_count": 51,
   "metadata": {},
   "outputs": [],
   "source": [
    "#block 3\n",
    "model.add(Conv2D(128,(3,3),padding='same',kernel_initializer='he_normal'))\n",
    "model.add(Activation('elu'))\n",
    "model.add(BatchNormalization())\n",
    "model.add(Conv2D(128,(3,3),padding='same',kernel_initializer='he_normal'))\n",
    "model.add(Activation('elu'))\n",
    "model.add(BatchNormalization())\n",
    "model.add(MaxPooling2D(pool_size=(2,2)))\n",
    "model.add(Dropout(0.2))"
   ]
  },
  {
   "cell_type": "code",
   "execution_count": 52,
   "metadata": {},
   "outputs": [],
   "source": [
    "#block 4\n",
    "model.add(Conv2D(256,(3,3),padding='same',kernel_initializer='he_normal'))\n",
    "model.add(Activation('elu'))\n",
    "model.add(BatchNormalization())\n",
    "model.add(Conv2D(256,(3,3),padding='same',kernel_initializer='he_normal'))\n",
    "model.add(Activation('elu'))\n",
    "model.add(BatchNormalization())\n",
    "model.add(MaxPooling2D(pool_size=(2,2)))\n",
    "model.add(Dropout(0.2))"
   ]
  },
  {
   "cell_type": "code",
   "execution_count": 53,
   "metadata": {},
   "outputs": [],
   "source": [
    "#block 5\n",
    "model.add(Flatten())          #to make it a oned data\n",
    "model.add(Dense(64,kernel_initializer='he_normal'))      #dense layer of 64 neurons\n",
    "model.add(Activation('elu'))\n",
    "model.add(BatchNormalization())\n",
    "model.add(Dropout(0.5))      #only 50% data will be activated"
   ]
  },
  {
   "cell_type": "code",
   "execution_count": 54,
   "metadata": {},
   "outputs": [],
   "source": [
    "#to make a fully connected layers not a conv2d\n",
    "model.add(Dense(64,kernel_initializer='he_normal'))      #dense layer of 64 neurons\n",
    "model.add(Activation('elu'))\n",
    "model.add(BatchNormalization())\n",
    "model.add(Dropout(0.5))"
   ]
  },
  {
   "cell_type": "code",
   "execution_count": 56,
   "metadata": {},
   "outputs": [],
   "source": [
    "#block7 to generate 64 neurons n we need only 5 types of op(happy,sad,neutral...)\n",
    "\n",
    "model.add(Dense(number_of_classes,kernel_initializer='he_normal'))\n",
    "model.add(Activation('softmax'))"
   ]
  },
  {
   "cell_type": "code",
   "execution_count": 57,
   "metadata": {},
   "outputs": [
    {
     "name": "stdout",
     "output_type": "stream",
     "text": [
      "Model: \"sequential_4\"\n",
      "_________________________________________________________________\n",
      "Layer (type)                 Output Shape              Param #   \n",
      "=================================================================\n",
      "conv2d_3 (Conv2D)            (None, 48, 48, 32)        320       \n",
      "_________________________________________________________________\n",
      "activation_3 (Activation)    (None, 48, 48, 32)        0         \n",
      "_________________________________________________________________\n",
      "batch_normalization_3 (Batch (None, 48, 48, 32)        128       \n",
      "_________________________________________________________________\n",
      "conv2d_4 (Conv2D)            (None, 48, 48, 32)        9248      \n",
      "_________________________________________________________________\n",
      "activation_4 (Activation)    (None, 48, 48, 32)        0         \n",
      "_________________________________________________________________\n",
      "batch_normalization_4 (Batch (None, 48, 48, 32)        128       \n",
      "_________________________________________________________________\n",
      "max_pooling2d_1 (MaxPooling2 (None, 24, 24, 32)        0         \n",
      "_________________________________________________________________\n",
      "dropout_1 (Dropout)          (None, 24, 24, 32)        0         \n",
      "_________________________________________________________________\n",
      "conv2d_5 (Conv2D)            (None, 24, 24, 64)        18496     \n",
      "_________________________________________________________________\n",
      "activation_5 (Activation)    (None, 24, 24, 64)        0         \n",
      "_________________________________________________________________\n",
      "batch_normalization_5 (Batch (None, 24, 24, 64)        256       \n",
      "_________________________________________________________________\n",
      "conv2d_6 (Conv2D)            (None, 24, 24, 64)        36928     \n",
      "_________________________________________________________________\n",
      "activation_6 (Activation)    (None, 24, 24, 64)        0         \n",
      "_________________________________________________________________\n",
      "batch_normalization_6 (Batch (None, 24, 24, 64)        256       \n",
      "_________________________________________________________________\n",
      "max_pooling2d_2 (MaxPooling2 (None, 12, 12, 64)        0         \n",
      "_________________________________________________________________\n",
      "dropout_2 (Dropout)          (None, 12, 12, 64)        0         \n",
      "_________________________________________________________________\n",
      "conv2d_7 (Conv2D)            (None, 12, 12, 128)       73856     \n",
      "_________________________________________________________________\n",
      "activation_7 (Activation)    (None, 12, 12, 128)       0         \n",
      "_________________________________________________________________\n",
      "batch_normalization_7 (Batch (None, 12, 12, 128)       512       \n",
      "_________________________________________________________________\n",
      "conv2d_8 (Conv2D)            (None, 12, 12, 128)       147584    \n",
      "_________________________________________________________________\n",
      "activation_8 (Activation)    (None, 12, 12, 128)       0         \n",
      "_________________________________________________________________\n",
      "batch_normalization_8 (Batch (None, 12, 12, 128)       512       \n",
      "_________________________________________________________________\n",
      "max_pooling2d_3 (MaxPooling2 (None, 6, 6, 128)         0         \n",
      "_________________________________________________________________\n",
      "dropout_3 (Dropout)          (None, 6, 6, 128)         0         \n",
      "_________________________________________________________________\n",
      "conv2d_9 (Conv2D)            (None, 6, 6, 128)         147584    \n",
      "_________________________________________________________________\n",
      "activation_9 (Activation)    (None, 6, 6, 128)         0         \n",
      "_________________________________________________________________\n",
      "batch_normalization_9 (Batch (None, 6, 6, 128)         512       \n",
      "_________________________________________________________________\n",
      "conv2d_10 (Conv2D)           (None, 6, 6, 128)         147584    \n",
      "_________________________________________________________________\n",
      "activation_10 (Activation)   (None, 6, 6, 128)         0         \n",
      "_________________________________________________________________\n",
      "batch_normalization_10 (Batc (None, 6, 6, 128)         512       \n",
      "_________________________________________________________________\n",
      "max_pooling2d_4 (MaxPooling2 (None, 3, 3, 128)         0         \n",
      "_________________________________________________________________\n",
      "dropout_4 (Dropout)          (None, 3, 3, 128)         0         \n",
      "_________________________________________________________________\n",
      "conv2d_11 (Conv2D)           (None, 3, 3, 256)         295168    \n",
      "_________________________________________________________________\n",
      "activation_11 (Activation)   (None, 3, 3, 256)         0         \n",
      "_________________________________________________________________\n",
      "batch_normalization_11 (Batc (None, 3, 3, 256)         1024      \n",
      "_________________________________________________________________\n",
      "conv2d_12 (Conv2D)           (None, 3, 3, 256)         590080    \n",
      "_________________________________________________________________\n",
      "activation_12 (Activation)   (None, 3, 3, 256)         0         \n",
      "_________________________________________________________________\n",
      "batch_normalization_12 (Batc (None, 3, 3, 256)         1024      \n",
      "_________________________________________________________________\n",
      "max_pooling2d_5 (MaxPooling2 (None, 1, 1, 256)         0         \n",
      "_________________________________________________________________\n",
      "dropout_5 (Dropout)          (None, 1, 1, 256)         0         \n",
      "_________________________________________________________________\n",
      "flatten_1 (Flatten)          (None, 256)               0         \n",
      "_________________________________________________________________\n",
      "dense_1 (Dense)              (None, 64)                16448     \n",
      "_________________________________________________________________\n",
      "activation_13 (Activation)   (None, 64)                0         \n",
      "_________________________________________________________________\n",
      "batch_normalization_13 (Batc (None, 64)                256       \n",
      "_________________________________________________________________\n",
      "dropout_6 (Dropout)          (None, 64)                0         \n",
      "_________________________________________________________________\n",
      "dense_2 (Dense)              (None, 64)                4160      \n",
      "_________________________________________________________________\n",
      "activation_14 (Activation)   (None, 64)                0         \n",
      "_________________________________________________________________\n",
      "batch_normalization_14 (Batc (None, 64)                256       \n",
      "_________________________________________________________________\n",
      "dropout_7 (Dropout)          (None, 64)                0         \n",
      "_________________________________________________________________\n",
      "dense_3 (Dense)              (None, 5)                 325       \n",
      "_________________________________________________________________\n",
      "activation_15 (Activation)   (None, 5)                 0         \n",
      "=================================================================\n",
      "Total params: 1,493,157\n",
      "Trainable params: 1,490,469\n",
      "Non-trainable params: 2,688\n",
      "_________________________________________________________________\n",
      "None\n"
     ]
    }
   ],
   "source": [
    "print(model.summary())"
   ]
  },
  {
   "cell_type": "code",
   "execution_count": 58,
   "metadata": {},
   "outputs": [],
   "source": [
    "#training step\n",
    "from keras.optimizers import RMSprop,SGD,Adam   #check which gives high accuracy n less loss \n",
    "from keras.callbacks import ModelCheckpoint, EarlyStopping, ReduceLROnPlateau #(1.save the model after each epoch ,2.stop training when a monitered quantity has stopped learning ,3.reduced lrng rate when a metric stopped lrng)\n",
    "checkpoint = ModelCheckpoint('Emotion_IITK.h5',\n",
    "                           monitor='val_loss',\n",
    "                           mode='min',\n",
    "                           save_best_only=True,   #save the model with min loss\n",
    "                           verbose=1)             #saving the model n got the best rsult\n",
    "\n",
    "\n",
    "earlystop = EarlyStopping(monitor='val_loss',\n",
    "                          min_delta=0,\n",
    "                          patience=10,       #upto 3 epochs we see\n",
    "                          verbose=1,          \n",
    "                          restore_best_weights=True\n",
    "                         )\n",
    "reduce_lr=ReduceLROnPlateau(monitor='val_loss',\n",
    "                         factor=0.2,            #dec ythe lrng rate at 0.2\n",
    "                         patience=10,            #dec the lrng rate after 3 epochs\n",
    "                         verbose=1,\n",
    "                         min_delta=0.0001)\n",
    "callbacks=[earlystop,checkpoint,reduce_lr]\n",
    "                        \n",
    "\n",
    "                           \n",
    "                           \n"
   ]
  },
  {
   "cell_type": "code",
   "execution_count": 17,
   "metadata": {},
   "outputs": [
    {
     "name": "stdout",
     "output_type": "stream",
     "text": [
      "Epoch 1/100\n",
      "755/755 [==============================] - 865s 1s/step - loss: 1.8728 - accuracy: 0.2445 - val_loss: 1.5408 - val_accuracy: 0.3135\n",
      "\n",
      "Epoch 00001: val_loss improved from inf to 1.54083, saving model to Emotion_IITK.h5\n",
      "Epoch 2/100\n",
      "755/755 [==============================] - 768s 1s/step - loss: 1.5733 - accuracy: 0.2864 - val_loss: 1.5921 - val_accuracy: 0.3128\n",
      "\n",
      "Epoch 00002: val_loss did not improve from 1.54083\n",
      "Epoch 3/100\n",
      "755/755 [==============================] - 784s 1s/step - loss: 1.5468 - accuracy: 0.3054 - val_loss: 1.5635 - val_accuracy: 0.3589\n",
      "\n",
      "Epoch 00003: val_loss did not improve from 1.54083\n",
      "Epoch 4/100\n",
      "755/755 [==============================] - 777s 1s/step - loss: 1.5120 - accuracy: 0.3259 - val_loss: 1.4335 - val_accuracy: 0.3353\n",
      "\n",
      "Epoch 00004: val_loss improved from 1.54083 to 1.43352, saving model to Emotion_IITK.h5\n",
      "Epoch 5/100\n",
      "755/755 [==============================] - 777s 1s/step - loss: 1.4599 - accuracy: 0.3615 - val_loss: 1.3324 - val_accuracy: 0.4802\n",
      "\n",
      "Epoch 00005: val_loss improved from 1.43352 to 1.33239, saving model to Emotion_IITK.h5\n",
      "Epoch 6/100\n",
      "755/755 [==============================] - 781s 1s/step - loss: 1.3690 - accuracy: 0.4204 - val_loss: 1.1118 - val_accuracy: 0.5366\n",
      "\n",
      "Epoch 00006: val_loss improved from 1.33239 to 1.11177, saving model to Emotion_IITK.h5\n",
      "Epoch 7/100\n",
      "755/755 [==============================] - 789s 1s/step - loss: 1.2901 - accuracy: 0.4611 - val_loss: 1.1214 - val_accuracy: 0.5722\n",
      "\n",
      "Epoch 00007: val_loss did not improve from 1.11177\n",
      "Epoch 8/100\n",
      "755/755 [==============================] - 774s 1s/step - loss: 1.2302 - accuracy: 0.4947 - val_loss: 0.8507 - val_accuracy: 0.6045\n",
      "\n",
      "Epoch 00008: val_loss improved from 1.11177 to 0.85068, saving model to Emotion_IITK.h5\n",
      "Epoch 9/100\n",
      "755/755 [==============================] - 749s 992ms/step - loss: 1.1905 - accuracy: 0.5174 - val_loss: 0.9738 - val_accuracy: 0.6280\n",
      "\n",
      "Epoch 00009: val_loss did not improve from 0.85068\n",
      "Epoch 10/100\n",
      "755/755 [==============================] - 790s 1s/step - loss: 1.1607 - accuracy: 0.5284 - val_loss: 0.6883 - val_accuracy: 0.6472\n",
      "\n",
      "Epoch 00010: val_loss improved from 0.85068 to 0.68825, saving model to Emotion_IITK.h5\n",
      "Epoch 11/100\n",
      "755/755 [==============================] - 805s 1s/step - loss: 1.1290 - accuracy: 0.5442 - val_loss: 0.8009 - val_accuracy: 0.6317\n",
      "\n",
      "Epoch 00011: val_loss did not improve from 0.68825\n",
      "Epoch 12/100\n",
      "755/755 [==============================] - 784s 1s/step - loss: 1.1128 - accuracy: 0.5541 - val_loss: 0.8012 - val_accuracy: 0.6421\n",
      "\n",
      "Epoch 00012: val_loss did not improve from 0.68825\n",
      "Epoch 13/100\n",
      "755/755 [==============================] - 779s 1s/step - loss: 1.0929 - accuracy: 0.5656 - val_loss: 0.6183 - val_accuracy: 0.6724\n",
      "\n",
      "Epoch 00013: val_loss improved from 0.68825 to 0.61835, saving model to Emotion_IITK.h5\n",
      "Epoch 14/100\n",
      "755/755 [==============================] - 778s 1s/step - loss: 1.0785 - accuracy: 0.5775 - val_loss: 0.8587 - val_accuracy: 0.6552\n",
      "\n",
      "Epoch 00014: val_loss did not improve from 0.61835\n",
      "Epoch 15/100\n",
      "755/755 [==============================] - 797s 1s/step - loss: 1.0626 - accuracy: 0.5837 - val_loss: 0.8946 - val_accuracy: 0.6828\n",
      "\n",
      "Epoch 00015: val_loss did not improve from 0.61835\n",
      "Epoch 16/100\n",
      "755/755 [==============================] - 776s 1s/step - loss: 1.0526 - accuracy: 0.5863 - val_loss: 0.8215 - val_accuracy: 0.7036\n",
      "\n",
      "Epoch 00016: val_loss did not improve from 0.61835\n",
      "Epoch 17/100\n",
      "755/755 [==============================] - 773s 1s/step - loss: 1.0477 - accuracy: 0.5909 - val_loss: 1.0813 - val_accuracy: 0.6774\n",
      "\n",
      "Epoch 00017: val_loss did not improve from 0.61835\n",
      "Epoch 18/100\n",
      "755/755 [==============================] - 785s 1s/step - loss: 1.0358 - accuracy: 0.5967 - val_loss: 0.7827 - val_accuracy: 0.6862\n",
      "\n",
      "Epoch 00018: val_loss did not improve from 0.61835\n",
      "Epoch 19/100\n",
      "755/755 [==============================] - 787s 1s/step - loss: 1.0253 - accuracy: 0.5997 - val_loss: 0.6869 - val_accuracy: 0.6892\n",
      "\n",
      "Epoch 00019: val_loss did not improve from 0.61835\n",
      "Epoch 20/100\n",
      "755/755 [==============================] - 775s 1s/step - loss: 1.0094 - accuracy: 0.6110 - val_loss: 0.4773 - val_accuracy: 0.6962\n",
      "\n",
      "Epoch 00020: val_loss improved from 0.61835 to 0.47730, saving model to Emotion_IITK.h5\n",
      "Epoch 21/100\n",
      "755/755 [==============================] - 783s 1s/step - loss: 1.0034 - accuracy: 0.6152 - val_loss: 0.9692 - val_accuracy: 0.7127\n",
      "\n",
      "Epoch 00021: val_loss did not improve from 0.47730\n",
      "Epoch 22/100\n",
      "755/755 [==============================] - 769s 1s/step - loss: 1.0005 - accuracy: 0.6147 - val_loss: 0.8406 - val_accuracy: 0.6976\n",
      "\n",
      "Epoch 00022: val_loss did not improve from 0.47730\n",
      "Epoch 23/100\n",
      "755/755 [==============================] - 775s 1s/step - loss: 0.9995 - accuracy: 0.6149 - val_loss: 0.3393 - val_accuracy: 0.7127\n",
      "\n",
      "Epoch 00023: val_loss improved from 0.47730 to 0.33935, saving model to Emotion_IITK.h5\n",
      "Epoch 24/100\n",
      "755/755 [==============================] - 776s 1s/step - loss: 0.9858 - accuracy: 0.6221 - val_loss: 0.4935 - val_accuracy: 0.6972\n",
      "\n",
      "Epoch 00024: val_loss did not improve from 0.33935\n",
      "Epoch 25/100\n",
      "755/755 [==============================] - 779s 1s/step - loss: 0.9803 - accuracy: 0.6221 - val_loss: 0.7233 - val_accuracy: 0.7020\n",
      "\n",
      "Epoch 00025: val_loss did not improve from 0.33935\n",
      "Epoch 26/100\n",
      "755/755 [==============================] - 771s 1s/step - loss: 0.9718 - accuracy: 0.6281 - val_loss: 0.4714 - val_accuracy: 0.6919\n",
      "\n",
      "Epoch 00026: val_loss did not improve from 0.33935\n",
      "Epoch 27/100\n",
      "755/755 [==============================] - 785s 1s/step - loss: 0.9689 - accuracy: 0.6283 - val_loss: 0.6314 - val_accuracy: 0.7228\n",
      "\n",
      "Epoch 00027: val_loss did not improve from 0.33935\n",
      "Epoch 28/100\n",
      "755/755 [==============================] - 774s 1s/step - loss: 0.9615 - accuracy: 0.6332 - val_loss: 0.4165 - val_accuracy: 0.7325\n",
      "\n",
      "Epoch 00028: val_loss did not improve from 0.33935\n",
      "Epoch 29/100\n",
      "755/755 [==============================] - 772s 1s/step - loss: 0.9577 - accuracy: 0.6295 - val_loss: 0.9010 - val_accuracy: 0.7040\n",
      "\n",
      "Epoch 00029: val_loss did not improve from 0.33935\n",
      "Epoch 30/100\n",
      "755/755 [==============================] - 781s 1s/step - loss: 0.9513 - accuracy: 0.6356 - val_loss: 0.8189 - val_accuracy: 0.7184\n",
      "\n",
      "Epoch 00030: val_loss did not improve from 0.33935\n",
      "Epoch 31/100\n",
      "755/755 [==============================] - 780s 1s/step - loss: 0.9515 - accuracy: 0.6353 - val_loss: 0.9562 - val_accuracy: 0.7325\n",
      "\n",
      "Epoch 00031: val_loss did not improve from 0.33935\n",
      "Epoch 32/100\n",
      "755/755 [==============================] - 777s 1s/step - loss: 0.9403 - accuracy: 0.6401 - val_loss: 0.5913 - val_accuracy: 0.7120\n",
      "\n",
      "Epoch 00032: val_loss did not improve from 0.33935\n",
      "Epoch 33/100\n",
      "755/755 [==============================] - 777s 1s/step - loss: 0.9480 - accuracy: 0.6362 - val_loss: 0.8787 - val_accuracy: 0.7348\n",
      "Restoring model weights from the end of the best epoch\n",
      "\n",
      "Epoch 00033: val_loss did not improve from 0.33935\n",
      "\n",
      "Epoch 00033: ReduceLROnPlateau reducing learning rate to 0.00020000000949949026.\n",
      "Epoch 00033: early stopping\n"
     ]
    }
   ],
   "source": [
    "#compilation\n",
    "\n",
    "model.compile(loss='categorical_crossentropy',\n",
    "             optimizer=Adam(lr=0.001),\n",
    "             metrics=['accuracy'])\n",
    "nb_train_samples=24176  #no of imgs for training\n",
    "nb_validation_samples=3006\n",
    "epochs=100\n",
    "history=model.fit_generator(          \n",
    "        train_generator,\n",
    "        steps_per_epoch=nb_train_samples//batch_size,\n",
    "        epochs=epochs,\n",
    "        callbacks=callbacks,\n",
    "        validation_data=validation_generator,\n",
    "        validation_steps=nb_validation_samples//batch_size)"
   ]
  },
  {
   "cell_type": "code",
   "execution_count": null,
   "metadata": {},
   "outputs": [],
   "source": []
  },
  {
   "cell_type": "code",
   "execution_count": null,
   "metadata": {},
   "outputs": [],
   "source": []
  },
  {
   "cell_type": "code",
   "execution_count": null,
   "metadata": {},
   "outputs": [],
   "source": []
  },
  {
   "cell_type": "code",
   "execution_count": null,
   "metadata": {},
   "outputs": [],
   "source": []
  },
  {
   "cell_type": "code",
   "execution_count": 60,
   "metadata": {},
   "outputs": [],
   "source": [
    "import matplotlib.pyplot as plt"
   ]
  },
  {
   "cell_type": "code",
   "execution_count": null,
   "metadata": {},
   "outputs": [],
   "source": []
  },
  {
   "cell_type": "code",
   "execution_count": 22,
   "metadata": {},
   "outputs": [
    {
     "data": {
      "image/png": "[encoded data removed]",
      "text/plain": [
       "<Figure size 432x288 with 1 Axes>"
      ]
     },
     "metadata": {
      "needs_background": "light"
     },
     "output_type": "display_data"
    }
   ],
   "source": [
    "plt.plot(history.history['loss'])\n",
    "plt.savefig('loss.png')"
   ]
  },
  {
   "cell_type": "code",
   "execution_count": 23,
   "metadata": {},
   "outputs": [
    {
     "data": {
      "image/png": "[encoded data removed]",
      "text/plain": [
       "<Figure size 432x288 with 1 Axes>"
      ]
     },
     "metadata": {
      "needs_background": "light"
     },
     "output_type": "display_data"
    }
   ],
   "source": [
    "plt.plot(history.history['val_accuracy'])\n",
    "plt.savefig('val_accuracy.png')"
   ]
  },
  {
   "cell_type": "code",
   "execution_count": 24,
   "metadata": {},
   "outputs": [
    {
     "data": {
      "image/png": "[encoded data removed]",
      "text/plain": [
       "<Figure size 432x288 with 1 Axes>"
      ]
     },
     "metadata": {
      "needs_background": "light"
     },
     "output_type": "display_data"
    },
    {
     "data": {
      "text/plain": [
       "<Figure size 432x288 with 0 Axes>"
      ]
     },
     "metadata": {},
     "output_type": "display_data"
    }
   ],
   "source": [
    "plt.plot(history.history['loss'])\n",
    "plt.plot(history.history['val_loss'])\n",
    "plt.title('model loss')\n",
    "plt.ylabel('loss')\n",
    "plt.xlabel('epochs')\n",
    "plt.show()\n",
    "plt.savefig('model loss.png')"
   ]
  },
  {
   "cell_type": "code",
   "execution_count": 25,
   "metadata": {},
   "outputs": [
    {
     "data": {
      "image/png": "[encoded data removed]",
      "text/plain": [
       "<Figure size 432x288 with 1 Axes>"
      ]
     },
     "metadata": {
      "needs_background": "light"
     },
     "output_type": "display_data"
    }
   ],
   "source": [
    "plt.plot(history.history['accuracy'])\n",
    "plt.savefig('accuracy.png')"
   ]
  },
  {
   "cell_type": "code",
   "execution_count": 2,
   "metadata": {},
   "outputs": [],
   "source": [
    "from tensorflow.keras.models import Sequential, save_model, load_model\n",
    "import numpy as np"
   ]
  },
  {
   "cell_type": "code",
   "execution_count": 3,
   "metadata": {},
   "outputs": [],
   "source": [
    "loaded_model=load_model('Emotion_IITK.h5')"
   ]
  },
  {
   "cell_type": "code",
   "execution_count": null,
   "metadata": {},
   "outputs": [],
   "source": []
  },
  {
   "cell_type": "markdown",
   "metadata": {},
   "source": [
    "TESTING"
   ]
  },
  {
   "cell_type": "code",
   "execution_count": null,
   "metadata": {},
   "outputs": [],
   "source": []
  },
  {
   "cell_type": "code",
   "execution_count": null,
   "metadata": {},
   "outputs": [],
   "source": []
  },
  {
   "cell_type": "code",
   "execution_count": null,
   "metadata": {},
   "outputs": [],
   "source": []
  },
  {
   "cell_type": "code",
   "execution_count": null,
   "metadata": {},
   "outputs": [],
   "source": [
    "\n",
    "\n"
   ]
  },
  {
   "cell_type": "code",
   "execution_count": null,
   "metadata": {},
   "outputs": [],
   "source": []
  },
  {
   "cell_type": "code",
   "execution_count": null,
   "metadata": {},
   "outputs": [],
   "source": []
  },
  {
   "cell_type": "code",
   "execution_count": null,
   "metadata": {},
   "outputs": [],
   "source": []
  },
  {
   "cell_type": "code",
   "execution_count": null,
   "metadata": {},
   "outputs": [],
   "source": []
  },
  {
   "cell_type": "code",
   "execution_count": null,
   "metadata": {},
   "outputs": [],
   "source": []
  },
  {
   "cell_type": "code",
   "execution_count": null,
   "metadata": {},
   "outputs": [],
   "source": []
  }
 ],
 "metadata": {
  "kernelspec": {
   "display_name": "Python 3",
   "language": "python",
   "name": "python3"
  },
  "language_info": {
   "codemirror_mode": {
    "name": "ipython",
    "version": 3
   },
   "file_extension": ".py",
   "mimetype": "text/x-python",
   "name": "python",
   "nbconvert_exporter": "python",
   "pygments_lexer": "ipython3",
   "version": "3.7.7"
  }
 },
 "nbformat": 4,
 "nbformat_minor": 4
}
